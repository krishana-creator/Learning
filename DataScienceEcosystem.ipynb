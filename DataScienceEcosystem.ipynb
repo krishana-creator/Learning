{
 "cells": [
  {
   "cell_type": "markdown",
   "id": "6366d791-5441-4aca-ad90-27c019fba57e",
   "metadata": {},
   "source": [
    "# Data Science Tools and Ecosystem"
   ]
  },
  {
   "cell_type": "markdown",
   "id": "e1674c4a-d655-49a6-87ac-da256f804b09",
   "metadata": {},
   "source": [
    "### In this notebook, Data Science Tools and Ecosystem are summarized."
   ]
  },
  {
   "cell_type": "markdown",
   "id": "71e8d19e-a5fe-4e87-b80d-891800d66da7",
   "metadata": {},
   "source": [
    "#### Some of the popular languages that Data Scientists use are:"
   ]
  },
  {
   "cell_type": "markdown",
   "id": "f525016a-41ab-4232-aa62-94efa0c43381",
   "metadata": {},
   "source": [
    " 1. Python\n",
    " 2. R\n",
    " 3. SQL\n",
    " 4. Julia\n",
    " 5. Java"
   ]
  },
  {
   "cell_type": "markdown",
   "id": "8f14d516-87bc-4de6-a974-6af47c24992e",
   "metadata": {},
   "source": [
    "## __Objectives:__ "
   ]
  },
  {
   "cell_type": "markdown",
   "id": "c6467710-4d96-4287-a441-ebbff455ee61",
   "metadata": {},
   "source": [
    "- List popular languages for Data Science.\n",
    "- What all are commonly used libraries for Data Science. \n",
    "- Creating a markdown cell with a table\n",
    "- Creating a code cell to multiply and add numbers"
   ]
  },
  {
   "cell_type": "markdown",
   "id": "488648ef-1012-44b6-a4ba-ec1c0273a53f",
   "metadata": {},
   "source": [
    "### Some of the commonly used libraries used by Data Scientists include:"
   ]
  },
  {
   "cell_type": "markdown",
   "id": "e8853d80-7d9c-4568-9aca-fc2517cb549f",
   "metadata": {},
   "source": [
    "1. NumPy\n",
    "2. Pandas\n",
    "3. Matplotlib\n",
    "4. Scikit-learn\n",
    "5. TensorFlow\n",
    "6. Seaborn \n",
    "7. PyTorch"
   ]
  },
  {
   "cell_type": "markdown",
   "id": "7c791c48-ee68-4268-a4f4-3292a5640d87",
   "metadata": {},
   "source": [
    " |Data Science Tools |\n",
    " |-------------------| \n",
    " |Jupyter Notebook   |\n",
    " |RStudio            |\n",
    " |Pytorch            | "
   ]
  },
  {
   "cell_type": "markdown",
   "id": "12253f92-6ee6-480c-bec1-b519921536f3",
   "metadata": {},
   "source": [
    "### Below are a few examples of evaluating arithmetic expressions in Python"
   ]
  },
  {
   "cell_type": "markdown",
   "id": "0ed364b5-550f-473c-afd1-436c4efe1e98",
   "metadata": {},
   "source": [
    "#### This a simple arithmetic expression to mutiply then add integers"
   ]
  },
  {
   "cell_type": "code",
   "execution_count": 28,
   "id": "725c7477-00ec-4fc9-adf5-f20bfca04462",
   "metadata": {},
   "outputs": [
    {
     "data": {
      "text/plain": [
       "17"
      ]
     },
     "execution_count": 28,
     "metadata": {},
     "output_type": "execute_result"
    }
   ],
   "source": [
    "(3*4)+5"
   ]
  },
  {
   "cell_type": "markdown",
   "id": "b150540d-afd8-4586-ba4c-85fcde09f51c",
   "metadata": {},
   "source": [
    "#### This will convert 200 minutes to hours by diving by 60"
   ]
  },
  {
   "cell_type": "code",
   "execution_count": 33,
   "id": "1e2476cf-d9c0-43be-b9f3-90a7ca1f9d3b",
   "metadata": {},
   "outputs": [
    {
     "name": "stdout",
     "output_type": "stream",
     "text": [
      "3.3333333333333335\n"
     ]
    }
   ],
   "source": [
    "minutes = 200 \n",
    "hours = minutes / 60 \n",
    "print(hours)"
   ]
  },
  {
   "cell_type": "markdown",
   "id": "7e920d2e-7920-4507-9a58-e75979c39d64",
   "metadata": {},
   "source": [
    "## Author"
   ]
  },
  {
   "cell_type": "markdown",
   "id": "630ee1b7-42ec-4424-9ce4-9faf8efb0e77",
   "metadata": {},
   "source": [
    "Krishnapriya Shanmugasundaram "
   ]
  },
  {
   "cell_type": "code",
   "execution_count": null,
   "id": "6be1fdaa-d641-4049-aed4-9ca5dfdafa0d",
   "metadata": {},
   "outputs": [],
   "source": []
  }
 ],
 "metadata": {
  "kernelspec": {
   "display_name": "Python [conda env:base] *",
   "language": "python",
   "name": "conda-base-py"
  },
  "language_info": {
   "codemirror_mode": {
    "name": "ipython",
    "version": 3
   },
   "file_extension": ".py",
   "mimetype": "text/x-python",
   "name": "python",
   "nbconvert_exporter": "python",
   "pygments_lexer": "ipython3",
   "version": "3.12.7"
  }
 },
 "nbformat": 4,
 "nbformat_minor": 5
}
